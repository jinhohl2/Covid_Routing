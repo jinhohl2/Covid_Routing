{
 "cells": [
  {
   "cell_type": "markdown",
   "metadata": {},
   "source": [
    "<img src=\"https://news.illinois.edu/files/6367/543635/116641.jpg\" alt=\"University of Illinois\" width=\"250\"/>\n",
    "\n",
    "# Calculations for Covid-routing #\n",
    "By Richard Sowers\n",
    "* <r-sowers@illinois.edu>\n",
    "* <https://publish.illinois.edu/r-sowers/>\n",
    "\n",
    "Copyright 2020 University of Illinois Board of Trustees. All Rights Reserved."
   ]
  },
  {
   "cell_type": "markdown",
   "metadata": {},
   "source": [
    "### imports and graphics configurations ###"
   ]
  },
  {
   "cell_type": "code",
   "execution_count": 1,
   "metadata": {},
   "outputs": [],
   "source": [
    "import numpy\n",
    "import pandas"
   ]
  },
  {
   "cell_type": "code",
   "execution_count": 2,
   "metadata": {},
   "outputs": [],
   "source": [
    "import time\n",
    "import random\n",
    "import matplotlib\n",
    "#%matplotlib notebook\n",
    "import matplotlib.pyplot as plt\n",
    "import scipy.stats\n",
    "#from pandas.plotting import autocorrelation_plot\n",
    "import matplotlib.offsetbox as offsetbox\n",
    "from matplotlib.ticker import StrMethodFormatter\n",
    "\n",
    "def saver(fname):\n",
    "    plt.savefig(fname+\".png\",bbox_inches=\"tight\")"
   ]
  },
  {
   "cell_type": "code",
   "execution_count": 3,
   "metadata": {},
   "outputs": [],
   "source": [
    "#for some reason, this needs to be in a separate cell\n",
    "params={\n",
    "    \"font.size\":15,\n",
    "    \"lines.linewidth\":5,\n",
    "}\n",
    "plt.rcParams.update(params)"
   ]
  },
  {
   "cell_type": "markdown",
   "metadata": {},
   "source": [
    "### constants ###"
   ]
  },
  {
   "cell_type": "code",
   "execution_count": 4,
   "metadata": {},
   "outputs": [],
   "source": [
    "fname=\"./Data/reduced_data.xlsx\""
   ]
  },
  {
   "cell_type": "markdown",
   "metadata": {},
   "source": [
    "### code starts here###"
   ]
  },
  {
   "cell_type": "code",
   "execution_count": 5,
   "metadata": {},
   "outputs": [
    {
     "data": {
      "text/html": [
       "<div>\n",
       "<style scoped>\n",
       "    .dataframe tbody tr th:only-of-type {\n",
       "        vertical-align: middle;\n",
       "    }\n",
       "\n",
       "    .dataframe tbody tr th {\n",
       "        vertical-align: top;\n",
       "    }\n",
       "\n",
       "    .dataframe thead th {\n",
       "        text-align: right;\n",
       "    }\n",
       "</style>\n",
       "<table border=\"1\" class=\"dataframe\">\n",
       "  <thead>\n",
       "    <tr style=\"text-align: right;\">\n",
       "      <th></th>\n",
       "      <th>address</th>\n",
       "      <th>Geocode</th>\n",
       "      <th>Zip Code</th>\n",
       "      <th>Total Population</th>\n",
       "      <th>Latin/Hispanic</th>\n",
       "      <th>Black/African American</th>\n",
       "      <th>Infected cases</th>\n",
       "    </tr>\n",
       "  </thead>\n",
       "  <tbody>\n",
       "    <tr>\n",
       "      <th>0</th>\n",
       "      <td>3531 N Southport Ave</td>\n",
       "      <td>170310615001002</td>\n",
       "      <td>60657</td>\n",
       "      <td>1707</td>\n",
       "      <td>97</td>\n",
       "      <td>22</td>\n",
       "      <td>289</td>\n",
       "    </tr>\n",
       "    <tr>\n",
       "      <th>1</th>\n",
       "      <td>2550 N Clybourn Ave</td>\n",
       "      <td>170310707002005</td>\n",
       "      <td>60614</td>\n",
       "      <td>3481</td>\n",
       "      <td>403</td>\n",
       "      <td>212</td>\n",
       "      <td>77</td>\n",
       "    </tr>\n",
       "  </tbody>\n",
       "</table>\n",
       "</div>"
      ],
      "text/plain": [
       "                address          Geocode  Zip Code  Total Population  \\\n",
       "0  3531 N Southport Ave  170310615001002     60657              1707   \n",
       "1   2550 N Clybourn Ave  170310707002005     60614              3481   \n",
       "\n",
       "   Latin/Hispanic  Black/African American  Infected cases  \n",
       "0              97                      22             289  \n",
       "1             403                     212              77  "
      ]
     },
     "execution_count": 5,
     "metadata": {},
     "output_type": "execute_result"
    }
   ],
   "source": [
    "data_raw=pandas.read_excel(fname)\n",
    "data_raw.head()\n",
    "data_raw.to_latex(\"rawdata.tex\")"
   ]
  },
  {
   "cell_type": "code",
   "execution_count": 6,
   "metadata": {
    "scrolled": true
   },
   "outputs": [
    {
     "data": {
      "text/html": [
       "<div>\n",
       "<style scoped>\n",
       "    .dataframe tbody tr th:only-of-type {\n",
       "        vertical-align: middle;\n",
       "    }\n",
       "\n",
       "    .dataframe tbody tr th {\n",
       "        vertical-align: top;\n",
       "    }\n",
       "\n",
       "    .dataframe thead th {\n",
       "        text-align: right;\n",
       "    }\n",
       "</style>\n",
       "<table border=\"1\" class=\"dataframe\">\n",
       "  <thead>\n",
       "    <tr style=\"text-align: right;\">\n",
       "      <th></th>\n",
       "      <th>Population</th>\n",
       "      <th>Infected</th>\n",
       "      <th>D1</th>\n",
       "      <th>D2</th>\n",
       "    </tr>\n",
       "    <tr>\n",
       "      <th>Regions</th>\n",
       "      <th></th>\n",
       "      <th></th>\n",
       "      <th></th>\n",
       "      <th></th>\n",
       "    </tr>\n",
       "  </thead>\n",
       "  <tbody>\n",
       "    <tr>\n",
       "      <th>R1</th>\n",
       "      <td>1707</td>\n",
       "      <td>289</td>\n",
       "      <td>22</td>\n",
       "      <td>1685</td>\n",
       "    </tr>\n",
       "    <tr>\n",
       "      <th>R2</th>\n",
       "      <td>3481</td>\n",
       "      <td>77</td>\n",
       "      <td>212</td>\n",
       "      <td>3269</td>\n",
       "    </tr>\n",
       "  </tbody>\n",
       "</table>\n",
       "</div>"
      ],
      "text/plain": [
       "         Population  Infected   D1    D2\n",
       "Regions                                 \n",
       "R1             1707       289   22  1685\n",
       "R2             3481        77  212  3269"
      ]
     },
     "execution_count": 6,
     "metadata": {},
     "output_type": "execute_result"
    }
   ],
   "source": [
    "data=data_raw.copy()[[\"Total Population\",\"Infected cases\",\"Black/African American\"]]\n",
    "data.index=[\"R1\",\"R2\"]\n",
    "data.rename(columns={\"Total Population\":\"Population\",\"Black/African American\":\"D1\",\"Infected cases\":\"Infected\"},inplace=True)\n",
    "data[\"D2\"]=data[\"Population\"]-data[\"D1\"]\n",
    "data.index.name=\"Regions\"\n",
    "data.to_latex(\"reduced_data\")\n",
    "data"
   ]
  },
  {
   "cell_type": "code",
   "execution_count": 7,
   "metadata": {},
   "outputs": [
    {
     "name": "stdout",
     "output_type": "stream",
     "text": [
      "demand= Regions\n",
      "R1    0.332611\n",
      "R2    0.667389\n",
      "Name: demand, dtype: float64\n",
      "impact=\n",
      " (D1    0.051472\n",
      "D2    0.948528\n",
      "Name: R1, dtype: float64, 0.012736552186205508)\n"
     ]
    }
   ],
   "source": [
    "class analysis:\n",
    "    data=data\n",
    "    demographics_colnames=[\"D1\",\"D2\"]\n",
    "\n",
    "    \n",
    "    def __init__(self,d_infected,d_population):\n",
    "        self.d_infected=d_infected\n",
    "        self.d_population=d_population\n",
    "        self.demographics=data.loc[:,self.demographics_colnames].sum(axis=\"index\")\n",
    "        self.demographics/=self.demographics.sum()\n",
    "        \n",
    "    def compute_demand(self,normalize=False):\n",
    "        out=self.d_infected*self.data[\"Infected\"]+self.d_population*self.data[\"Population\"]\n",
    "        if normalize:\n",
    "            out/=out.sum()\n",
    "        out.name=\"demand\"\n",
    "        return out\n",
    "    \n",
    "    def compute_impact(self,include_gap=False):\n",
    "        demand=self.compute_demand(normalize=True)\n",
    "        impact=0\n",
    "        for r in data.index:\n",
    "            impact+=self.data.loc[r,self.demographics_colnames]*demand[r]\n",
    "        impact/=impact.sum()\n",
    "        out=impact\n",
    "        if include_gap:\n",
    "            diff=self.demographics-impact\n",
    "            out=(out,numpy.linalg.norm(diff.values,ord=1))\n",
    "        return out\n",
    "        \n",
    "\n",
    "(d_infected,d_population)=(0.1,0.9)\n",
    "a=analysis(d_infected,d_population)\n",
    "print(\"demand=\",a.compute_demand(normalize=True))\n",
    "print(\"impact=\\n\",a.compute_impact(include_gap=True))"
   ]
  },
  {
   "cell_type": "code",
   "execution_count": 8,
   "metadata": {},
   "outputs": [
    {
     "data": {
      "image/png": "[encoded data removed]",
      "text/plain": [
       "<Figure size 432x288 with 1 Axes>"
      ]
     },
     "metadata": {
      "needs_background": "light"
     },
     "output_type": "display_data"
    }
   ],
   "source": [
    "(d_infected,d_population)=(0.4,0.9)\n",
    "a=analysis(d_infected,d_population)\n",
    "(impact,gap)=a.compute_impact(include_gap=True)\n",
    "\n",
    "plt.figure()\n",
    "plt.plot([0,1],[1,0],color=\"blue\")\n",
    "plt.xlabel(\"Demographic 1\")\n",
    "plt.ylabel(\"Demographic 2\")\n",
    "plt.scatter(a.demographics[\"D1\"],a.demographics[\"D2\"],color=\"green\",s=200,label=\"social justice\")\n",
    "plt.scatter(impact[\"D1\"],impact[\"D2\"],color=\"red\",s=100,label=\"impact\")\n",
    "title=[]\n",
    "title.append(\"Social Justice\")\n",
    "title.append(r\"$d_I={0:.2f}, d_P={1:.2f}$\".format(d_infected,d_population))\n",
    "title.append(r\"gap={0:.3f}\".format(gap))\n",
    "plt.title(\"\\n\".join(title))\n",
    "plt.legend()\n",
    "saver(\"gap\")\n",
    "plt.show()\n",
    "plt.close()"
   ]
  }
 ],
 "metadata": {
  "kernelspec": {
   "display_name": "Python 3",
   "language": "python",
   "name": "python3"
  },
  "language_info": {
   "codemirror_mode": {
    "name": "ipython",
    "version": 3
   },
   "file_extension": ".py",
   "mimetype": "text/x-python",
   "name": "python",
   "nbconvert_exporter": "python",
   "pygments_lexer": "ipython3",
   "version": "3.7.3"
  }
 },
 "nbformat": 4,
 "nbformat_minor": 2
}
