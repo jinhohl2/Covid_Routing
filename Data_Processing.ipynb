{
 "cells": [
  {
   "cell_type": "markdown",
   "metadata": {},
   "source": [
    "# COVID Routing Data"
   ]
  },
  {
   "cell_type": "markdown",
   "metadata": {},
   "source": [
    "By\n",
    "- Jin Ho Lee jinhohl2@illinois.edu <br>\n",
    "<br>\n",
    "Project directed by Richard Sowers<br>\n",
    "<br>\n",
    "- r-sowers@illinois.edu<br>\n",
    "- https://publish.illinois.edu/r-sowers/<br>\n",
    "<br>\n",
    "Copyright 2020 University of Illinois Board of Trustees. All Rights Reserved.\n",
    "Licensed under the MIT license"
   ]
  },
  {
   "cell_type": "markdown",
   "metadata": {},
   "source": [
    "***\n",
    "all_140_in_17.P1.csv <br>\n",
    "all_140_in_17.P8.csv <br>\n",
    "all_140_in_17.P9.csv <br>\n",
    "http://census.ire.org/data/bulkdata.html\n",
    "\n",
    "COVID-19_Cases__Tests__and_Deaths_by_ZIP_Code.csv <br>\n",
    "https://healthdata.gov/dataset/covid-19-cases-tests-and-deaths-zip-code\n",
    "\n"
   ]
  },
  {
   "cell_type": "code",
   "execution_count": 43,
   "metadata": {},
   "outputs": [],
   "source": [
    "import pandas as pd\n",
    "fname1=\"all_140_in_17.P1.csv\"\n",
    "fname2=\"all_140_in_17.P8.csv\"\n",
    "fname3=\"all_140_in_17.P9.csv\"\n",
    "fname4=\"COVID-19_Cases__Tests__and_Deaths_by_ZIP_Code.csv\"\n",
    "\n",
    "CB_total = pd.read_csv(fname1)\n",
    "CB_Race = pd.read_csv(fname2)\n",
    "CB_Latin = pd.read_csv(fname3)\n",
    "Test_Pos = pd.read_csv(fname4)"
   ]
  },
  {
   "cell_type": "markdown",
   "metadata": {},
   "source": [
    "# Population of different races in each Census block\n",
    "\n",
    "Data Dictionary for Column Names <br>\n",
    "P001001: Total Population <br>\n",
    "P008003: Total African-American Population <br>\n",
    "P009002: Total Latin-American Population <br>"
   ]
  },
  {
   "cell_type": "code",
   "execution_count": 44,
   "metadata": {},
   "outputs": [],
   "source": [
    "CB_Total=CB_total[[\"GEOID\",\"P001001\"]]\n",
    "CB_White=CB_Race[[\"GEOID\",\"P008003\"]]\n",
    "CB_Afro=CB_Race[[\"GEOID\",\"P008004\"]]\n",
    "CB_Latin=CB_Latin[[\"GEOID\",\"P009002\"]]\n",
    "CB_Total=CB_Total.rename(columns={\"P001001\":\"Total\"})\n",
    "CB_White=CB_White.rename(columns={\"P008003\":\"White American\"})\n",
    "CB_Afro=CB_Afro.rename(columns={\"P008004\":\"African American\"})\n",
    "CB_Latin=CB_Latin.rename(columns={\"P009002\":\"Latin American\"})\n",
    "CB_Toal[\"Total\"]=CB_Total[\"Total\"].fillna"
   ]
  },
  {
   "cell_type": "markdown",
   "metadata": {},
   "source": [
    "Create New Table with the population of Minority (African American & Latin American)"
   ]
  },
  {
   "cell_type": "code",
   "execution_count": 45,
   "metadata": {},
   "outputs": [],
   "source": [
    "CB_Total=CB_Total.set_index(\"GEOID\")\n",
    "CB_White=CB_White.set_index(\"GEOID\")\n",
    "CB_Afro=CB_Afro.set_index(\"GEOID\")\n",
    "CB_Latin=CB_Latin.set_index(\"GEOID\")\n",
    "CB_Minor=pd.concat([CB_Latin,CB_Afro], axis=1, sort=False)"
   ]
  },
  {
   "cell_type": "markdown",
   "metadata": {},
   "source": [
    "Function that accpets two string inputs (race and geoid) and return the population."
   ]
  },
  {
   "cell_type": "code",
   "execution_count": 46,
   "metadata": {},
   "outputs": [],
   "source": [
    "def search_population(race,geoid):\n",
    "    geoid=int(geoid)\n",
    "    if race == \"Total\" :\n",
    "        pop=CB_Total.loc[geoid, \"Total\"]\n",
    "    elif race == \"White\":\n",
    "        pop=CB_White.loc[geoid, \"White American\"]\n",
    "    elif race == \"African\":\n",
    "        pop=CB_Afro.loc[geoid, \"African American\"]\n",
    "    elif race == \"Latin\":\n",
    "        pop=CB_Latin.loc[geoid, \"Latin American\"]\n",
    "    return pop"
   ]
  },
  {
   "cell_type": "markdown",
   "metadata": {},
   "source": [
    "Find census blocks that are predominently African American & Latin American"
   ]
  },
  {
   "cell_type": "code",
   "execution_count": 47,
   "metadata": {},
   "outputs": [
    {
     "data": {
      "text/html": [
       "<div>\n",
       "<style scoped>\n",
       "    .dataframe tbody tr th:only-of-type {\n",
       "        vertical-align: middle;\n",
       "    }\n",
       "\n",
       "    .dataframe tbody tr th {\n",
       "        vertical-align: top;\n",
       "    }\n",
       "\n",
       "    .dataframe thead th {\n",
       "        text-align: right;\n",
       "    }\n",
       "</style>\n",
       "<table border=\"1\" class=\"dataframe\">\n",
       "  <thead>\n",
       "    <tr style=\"text-align: right;\">\n",
       "      <th></th>\n",
       "      <th>Latin American</th>\n",
       "      <th>African American</th>\n",
       "      <th>Minority</th>\n",
       "    </tr>\n",
       "    <tr>\n",
       "      <th>GEOID</th>\n",
       "      <th></th>\n",
       "      <th></th>\n",
       "      <th></th>\n",
       "    </tr>\n",
       "  </thead>\n",
       "  <tbody>\n",
       "    <tr>\n",
       "      <th>17031843500</th>\n",
       "      <td>2205</td>\n",
       "      <td>7603</td>\n",
       "      <td>9808</td>\n",
       "    </tr>\n",
       "    <tr>\n",
       "      <th>17089853400</th>\n",
       "      <td>8798</td>\n",
       "      <td>424</td>\n",
       "      <td>9222</td>\n",
       "    </tr>\n",
       "    <tr>\n",
       "      <th>17089853600</th>\n",
       "      <td>7390</td>\n",
       "      <td>846</td>\n",
       "      <td>8236</td>\n",
       "    </tr>\n",
       "    <tr>\n",
       "      <th>17089854400</th>\n",
       "      <td>5624</td>\n",
       "      <td>2135</td>\n",
       "      <td>7759</td>\n",
       "    </tr>\n",
       "    <tr>\n",
       "      <th>17031830003</th>\n",
       "      <td>245</td>\n",
       "      <td>7243</td>\n",
       "      <td>7488</td>\n",
       "    </tr>\n",
       "    <tr>\n",
       "      <th>17031191100</th>\n",
       "      <td>6526</td>\n",
       "      <td>472</td>\n",
       "      <td>6998</td>\n",
       "    </tr>\n",
       "    <tr>\n",
       "      <th>17031813400</th>\n",
       "      <td>6533</td>\n",
       "      <td>332</td>\n",
       "      <td>6865</td>\n",
       "    </tr>\n",
       "    <tr>\n",
       "      <th>17031630800</th>\n",
       "      <td>6337</td>\n",
       "      <td>488</td>\n",
       "      <td>6825</td>\n",
       "    </tr>\n",
       "    <tr>\n",
       "      <th>17031842800</th>\n",
       "      <td>6699</td>\n",
       "      <td>99</td>\n",
       "      <td>6798</td>\n",
       "    </tr>\n",
       "    <tr>\n",
       "      <th>17031814200</th>\n",
       "      <td>6611</td>\n",
       "      <td>182</td>\n",
       "      <td>6793</td>\n",
       "    </tr>\n",
       "  </tbody>\n",
       "</table>\n",
       "</div>"
      ],
      "text/plain": [
       "             Latin American  African American  Minority\n",
       "GEOID                                                  \n",
       "17031843500            2205              7603      9808\n",
       "17089853400            8798               424      9222\n",
       "17089853600            7390               846      8236\n",
       "17089854400            5624              2135      7759\n",
       "17031830003             245              7243      7488\n",
       "17031191100            6526               472      6998\n",
       "17031813400            6533               332      6865\n",
       "17031630800            6337               488      6825\n",
       "17031842800            6699                99      6798\n",
       "17031814200            6611               182      6793"
      ]
     },
     "execution_count": 47,
     "metadata": {},
     "output_type": "execute_result"
    }
   ],
   "source": [
    "CB_Minor[\"Minority\"]=CB_Minor[\"Latin American\"]+CB_Minor[\"African American\"]\n",
    "CB_Minor=CB_Minor.sort_values(by=\"Minority\",ascending=False)\n",
    "CB_Minor.head(10)\n"
   ]
  },
  {
   "cell_type": "markdown",
   "metadata": {},
   "source": [
    "# Number of Confirmed Cases"
   ]
  },
  {
   "cell_type": "code",
   "execution_count": 48,
   "metadata": {},
   "outputs": [],
   "source": [
    "Test_Pos=Test_Pos[[\"ZIP Code\",\"Cases - Cumulative\"]]\n",
    "Test_Pos=Test_Pos.set_index(\"ZIP Code\")\n",
    "Test_Pos[\"Cases - Cumulative\"]=Test_Pos[\"Cases - Cumulative\"].fillna(\"0\")\n",
    "Test_Pos[\"Cases - Cumulative\"]=pd.to_numeric(Test_Pos[\"Cases - Cumulative\"])\n",
    "#convert DataFrames into numeric values (float)"
   ]
  },
  {
   "cell_type": "code",
   "execution_count": 49,
   "metadata": {},
   "outputs": [],
   "source": [
    "Test_Pos[\"Cases - Cumulative\"]=Test_Pos[\"Cases - Cumulative\"].fillna(\"0\")\n",
    "Test_Pos[\"Cases - Cumulative\"]=pd.to_numeric(Test_Pos[\"Cases - Cumulative\"])"
   ]
  },
  {
   "cell_type": "code",
   "execution_count": 50,
   "metadata": {},
   "outputs": [
    {
     "name": "stdout",
     "output_type": "stream",
     "text": [
      "12501\n"
     ]
    }
   ],
   "source": [
    "def confirmed_cases(zipCode):\n",
    "    zipCode=str(zipCode)\n",
    "    cases=Test_Pos.loc[zipCode,:]\n",
    "    total=int(cases.sum())\n",
    "    return total\n",
    "\n",
    "print(confirmed_cases(60631))\n",
    "  "
   ]
  },
  {
   "cell_type": "markdown",
   "metadata": {},
   "source": [
    "# Final Data "
   ]
  },
  {
   "cell_type": "markdown",
   "metadata": {},
   "source": [
    "- Target 0: 3531 N SouthPort Ave<br>\n",
    "    GeoID: 170310615001002 <br>\n",
    "    Zip Code: 60657<br>\n",
    "- Target 1: 3630 N SouthPort Ave<br>\n",
    "    GeoID: 170310604002006 <br>\n",
    "    Zip Code: 60613<br>\n",
    "- Target 2: 3400 N Western Ave<br>\n",
    "    GeoID: 170318437001018 <br>\n",
    "    Zip Code: 60618<br>\n",
    "- Target 3: 2940 N Ashland Ave<br>\n",
    "    GeoID: 170310626001023 <br>\n",
    "    Zip Code: 60657<br>\n",
    "- Target 4: 2550 N Clyborn Ave<br>\n",
    "    GeoID: 170310707002005 <br>\n",
    "    Zip Code: 60614<br>"
   ]
  },
  {
   "cell_type": "code",
   "execution_count": 57,
   "metadata": {},
   "outputs": [
    {
     "name": "stdout",
     "output_type": "stream",
     "text": [
      "3531 N SouthPort Ave\n",
      "Total Population:  1707\n",
      "White Population:  1562\n",
      "African American Population:  22\n",
      "Latin American Population:  97\n",
      "Confirmed Cases in this district:  17138\n",
      "\n",
      "3630 N SouthPort Ave\n",
      "Total Population:  3370\n",
      "White Population:  3036\n",
      "African American Population:  51\n",
      "Latin American Population:  304\n",
      "Confirmed Cases in this district:  15768\n",
      "\n",
      "3400 N Western Ave\n",
      "Total Population:  2226\n",
      "White Population:  1925\n",
      "African American Population:  32\n",
      "Latin American Population:  184\n",
      "Confirmed Cases in this district:  17138\n",
      "\n",
      "2550 N Clyborn Ave\n",
      "Total Population:  3481\n",
      "White Population:  2766\n",
      "African American Population:  212\n",
      "Latin American Population:  403\n",
      "Confirmed Cases in this district:  21966\n",
      "\n"
     ]
    }
   ],
   "source": [
    "print(\"3531 N SouthPort Ave\")\n",
    "print(\"Total Population: \", search_population(\"Total\",17031061500))\n",
    "print(\"White Population: \", search_population(\"White\",17031061500))\n",
    "print(\"African American Population: \", search_population(\"African\",17031061500))\n",
    "print(\"Latin American Population: \", search_population(\"Latin\",17031061500))\n",
    "print(\"Confirmed Cases in this district: \",confirmed_cases(60657))\n",
    "print()\n",
    "\n",
    "print(\"3630 N SouthPort Ave\")\n",
    "print(\"Total Population: \", search_population(\"Total\",17031060400))\n",
    "print(\"White Population: \", search_population(\"White\",17031060400))\n",
    "print(\"African American Population: \", search_population(\"African\",17031060400))\n",
    "print(\"Latin American Population: \", search_population(\"Latin\",17031060400))\n",
    "print(\"Confirmed Cases in this district: \",confirmed_cases(60613))\n",
    "print()\n",
    "\n",
    "print(\"3400 N Western Ave\")\n",
    "print(\"Total Population: \", search_population(\"Total\",17031062600))\n",
    "print(\"White Population: \", search_population(\"White\",17031062600))\n",
    "print(\"African American Population: \", search_population(\"African\",17031062600))\n",
    "print(\"Latin American Population: \", search_population(\"Latin\",17031062600))\n",
    "print(\"Confirmed Cases in this district: \",confirmed_cases(60657))\n",
    "print()\n",
    "\n",
    "print(\"2550 N Clyborn Ave\")\n",
    "print(\"Total Population: \", search_population(\"Total\",17031070700))\n",
    "print(\"White Population: \", search_population(\"White\",17031070700))\n",
    "print(\"African American Population: \", search_population(\"African\",17031070700))\n",
    "print(\"Latin American Population: \", search_population(\"Latin\",17031070700))\n",
    "print(\"Confirmed Cases in this district: \",confirmed_cases(60614))\n",
    "print()"
   ]
  }
 ],
 "metadata": {
  "kernelspec": {
   "display_name": "Python 3",
   "language": "python",
   "name": "python3"
  },
  "language_info": {
   "codemirror_mode": {
    "name": "ipython",
    "version": 3
   },
   "file_extension": ".py",
   "mimetype": "text/x-python",
   "name": "python",
   "nbconvert_exporter": "python",
   "pygments_lexer": "ipython3",
   "version": "3.8.3"
  }
 },
 "nbformat": 4,
 "nbformat_minor": 4
}
